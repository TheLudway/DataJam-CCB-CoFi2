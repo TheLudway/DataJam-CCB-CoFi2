{
 "cells": [
  {
   "cell_type": "markdown",
   "metadata": {},
   "source": [
    "# Librerías\n",
    "\n",
    "Las que se van a usar para este proyecto son:\n",
    "- Pandas\n",
    "- Matplotlib\n",
    "- Numpy"
   ]
  },
  {
   "cell_type": "code",
   "execution_count": 2,
   "metadata": {},
   "outputs": [],
   "source": [
    "import pandas as pd\n",
    "import matplotlib.pyplot as plt\n",
    "import numpy as np"
   ]
  },
  {
   "cell_type": "markdown",
   "metadata": {},
   "source": [
    "# Lectura del DataFrame\n",
    "Debido a que se en utf-8 no se lee el archivo, el `encoding='latin-1'` permite que se pueda leer el archivo. Es un archivo que está dividido por comas, entonces se debe inicializar a `delimiter=','`. Por sugerencia del motor el último parámetro es inicializado como `low_memory=False`"
   ]
  },
  {
   "cell_type": "code",
   "execution_count": 16,
   "metadata": {},
   "outputs": [
    {
     "data": {
      "text/plain": [
       "P117_1\n",
       "Hurto a personas (Atraco, cosquilleo, raponazo, fraude, engaño, paseo millonario, etc)    1715\n",
       "Homicidio                                                                                  347\n",
       "Feminicidio (Asesinato de mujeres)                                                         292\n",
       "Violencia contra la mujer (física, psicológica o económica)                                170\n",
       "Vandalismo                                                                                 169\n",
       "Hurto a residencias                                                                        140\n",
       "Venta de drogas                                                                            137\n",
       "Violencia Intrafamiliar                                                                    127\n",
       "Violencia Sexual                                                                            70\n",
       "Hurto de vehículos (o alguna de sus partes)                                                 69\n",
       "Lesiones personales                                                                         41\n",
       "Desaparición forzada                                                                        38\n",
       "Trata de personas                                                                           31\n",
       "Desplazamiento forzado                                                                      28\n",
       "Amenazas                                                                                    27\n",
       "Ciber Crimen (delito electrónico)                                                           25\n",
       "Hurto a establecimientos comerciales                                                        25\n",
       "Extorsión                                                                                   16\n",
       "Secuestro                                                                                   16\n",
       "Terrorismo                                                                                  15\n",
       "Name: count, dtype: int64"
      ]
     },
     "execution_count": 16,
     "metadata": {},
     "output_type": "execute_result"
    }
   ],
   "source": [
    "df = pd.read_csv('Base_2020.csv', delimiter=',', encoding='latin-1', low_memory=False)\n",
    "df['P117_1'].value_counts()"
   ]
  }
 ],
 "metadata": {
  "kernelspec": {
   "display_name": "base",
   "language": "python",
   "name": "python3"
  },
  "language_info": {
   "codemirror_mode": {
    "name": "ipython",
    "version": 3
   },
   "file_extension": ".py",
   "mimetype": "text/x-python",
   "name": "python",
   "nbconvert_exporter": "python",
   "pygments_lexer": "ipython3",
   "version": "3.11.5"
  }
 },
 "nbformat": 4,
 "nbformat_minor": 2
}
