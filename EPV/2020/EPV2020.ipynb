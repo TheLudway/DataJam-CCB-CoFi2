{
 "cells": [
  {
   "cell_type": "markdown",
   "metadata": {},
   "source": [
    "# Librerías\n",
    "\n",
    "Las que se van a usar para este proyecto son:\n",
    "- Pandas\n",
    "- Matplotlib\n",
    "- Numpy"
   ]
  },
  {
   "cell_type": "code",
   "execution_count": 2,
   "metadata": {},
   "outputs": [],
   "source": [
    "import pandas as pd\n",
    "import matplotlib.pyplot as plt\n",
    "import numpy as np"
   ]
  },
  {
   "cell_type": "markdown",
   "metadata": {},
   "source": [
    "# Lectura del DataFrame\n",
    "Debido a que se en utf-8 no se lee el archivo, el `encoding='latin-1'` permite que se pueda leer el archivo. Es un archivo que está dividido por comas, entonces se debe inicializar a `delimiter=','`. Por sugerencia del motor el último parámetro es inicializado como `low_memory=False`"
   ]
  },
  {
   "cell_type": "code",
   "execution_count": 131,
   "metadata": {},
   "outputs": [
    {
     "name": "stdout",
     "output_type": "stream",
     "text": [
      "Hurto a personas (Atraco, cosquilleo, raponazo, fraude, engaño, paseo millonario, etc)\n",
      "Violencia contra la mujer (física, psicológica o económica)\n",
      "Hurto de vehículos (o alguna de sus partes)\n",
      "Homicidio\n",
      "Hurto a residencias\n",
      "Desaparición forzada\n",
      "Lesiones personales\n",
      "Violencia Sexual\n",
      "Violencia Intrafamiliar\n",
      "Venta de drogas\n",
      "Terrorismo\n",
      "Secuestro\n",
      "Desplazamiento forzado\n",
      "Feminicidio (Asesinato de mujeres)\n",
      "Trata de personas \n",
      "Extorsión\n",
      "Vandalismo \n",
      "Ciber Crimen (delito electrónico)\n",
      "Hurto a establecimientos comerciales\n",
      "Amenazas\n"
     ]
    }
   ],
   "source": [
    "df = pd.read_csv('Base_2020.csv', delimiter=',', encoding='latin-1', low_memory=False)\n"
   ]
  },
  {
   "cell_type": "markdown",
   "metadata": {},
   "source": [
    "# Delitos que más preocupan\n",
    "1. Hurto a personas (Atraco, cosquilleo, raponazo, fraude, engaño, paseo millonario, etc)\n",
    "2. Violencia contra la mujer (física, psicológica o económica)\n",
    "3. Hurto de vehículos (o alguna de sus partes)\n",
    "4. Homicidio\n",
    "5. Hurto a residencias\n",
    "6. Desaparición forzada\n",
    "7. Lesiones personales\n",
    "8. Violencia Sexual\n",
    "9. Violencia Intrafamiliar\n",
    "10. Venta de drogas\n",
    "11. Terrorismo\n",
    "12. Secuestro\n",
    "13. Desplazamiento forzado\n",
    "14. Feminicidio (Asesinato de mujeres)\n",
    "15. Trata de personas \n",
    "16. Extorsión\n",
    "17. Vandalismo \n",
    "18. Ciber Crimen (delito electrónico)\n",
    "19. Hurto a establecimientos comerciales\n",
    "20. Amenazas"
   ]
  },
  {
   "cell_type": "markdown",
   "metadata": {},
   "source": [
    "## Percepción de los delitos \n",
    "\n",
    "Los delitos a los que más le preocupan a los bogotanos se van a guardar en un diccionario, cuya **llave** va a ser el delito que más les preocupa y el valor es cuántas personas respondieron que ese delito es el que más les preocupa, las llaves van a ser:\n",
    "\n",
    "1. `Homicidio`\n",
    "2. `Terrorismo`\n",
    "3. `Secuestro`\n",
    "4. `Vandalismo` \n",
    "5. `Amenazas`\n",
    "6. `HurtoPersonas`\n",
    "7. `ViolenciaMujer`\n",
    "8. `HurtoVehiculos`\n",
    "9. `HurtoResidencia`\n",
    "10. `DesapForzada`\n",
    "11. `LesionPersonal`\n",
    "12. `ViolenciaSexual`\n",
    "13. `ViolenciaFamiliar`\n",
    "14. `VentaDrogas`\n",
    "15. `DesplaForzado`\n",
    "16. `Feminicidio`\n",
    "17. `TrataPersonas`\n",
    "18. `Extorsion`\n",
    "19. `CiberCrimen`\n",
    "20. `HurtoComerciales`"
   ]
  },
  {
   "cell_type": "code",
   "execution_count": 150,
   "metadata": {},
   "outputs": [],
   "source": [
    "dictPercepDelitos = dict(zip(df['P117_1'].dropna().unique(), df['P117_1'].value_counts().values))\n",
    "dictPercepDelitos['HurtoPersonas'] = dictPercepDelitos.pop('Hurto a personas (Atraco, cosquilleo, raponazo, fraude, engaño, paseo millonario, etc)')\n",
    "dictPercepDelitos['ViolenciaMujer'] = dictPercepDelitos.pop('Violencia contra la mujer (física, psicológica o económica)')\n",
    "dictPercepDelitos['HurtoVehiculos'] = dictPercepDelitos.pop('Hurto de vehículos (o alguna de sus partes)')\n",
    "dictPercepDelitos['HurtoResidencia'] = dictPercepDelitos.pop('Hurto a residencias')\n",
    "dictPercepDelitos['DesapForzada'] = dictPercepDelitos.pop('Desaparición forzada')\n",
    "dictPercepDelitos['LesionPersonal'] = dictPercepDelitos.pop('Lesiones personales')\n",
    "dictPercepDelitos['ViolenciaSexual'] = dictPercepDelitos.pop('Violencia Sexual')\n",
    "dictPercepDelitos['ViolenciaFamiliar'] = dictPercepDelitos.pop('Violencia Intrafamiliar')\n",
    "dictPercepDelitos['VentaDrogas'] = dictPercepDelitos.pop('Venta de drogas')\n",
    "dictPercepDelitos['DesplaForzado'] = dictPercepDelitos.pop('Desplazamiento forzado')\n",
    "dictPercepDelitos['Feminicidio'] = dictPercepDelitos.pop('Feminicidio (Asesinato de mujeres)')\n",
    "dictPercepDelitos['TrataPersonas'] = dictPercepDelitos.pop('Trata de personas ')\n",
    "dictPercepDelitos['Extorsion'] = dictPercepDelitos.pop('Extorsión')\n",
    "dictPercepDelitos['CiberCrimen'] = dictPercepDelitos.pop('Ciber Crimen (delito electrónico)')\n",
    "dictPercepDelitos['HurtoComerciales'] = dictPercepDelitos.pop('Hurto a establecimientos comerciales')"
   ]
  },
  {
   "cell_type": "code",
   "execution_count": 154,
   "metadata": {},
   "outputs": [
    {
     "data": {
      "text/plain": [
       "{'Homicidio': 170,\n",
       " 'Terrorismo': 41,\n",
       " 'Secuestro': 38,\n",
       " 'Vandalismo ': 25,\n",
       " 'Amenazas': 15,\n",
       " 'HurtoPersonas': 1715,\n",
       " 'ViolenciaMujer': 347,\n",
       " 'HurtoVehiculos': 292,\n",
       " 'HurtoResidencia': 169,\n",
       " 'DesapForzada': 140,\n",
       " 'LesionPersonal': 137,\n",
       " 'ViolenciaSexual': 127,\n",
       " 'ViolenciaFamiliar': 70,\n",
       " 'VentaDrogas': 69,\n",
       " 'DesplaForzado': 31,\n",
       " 'Feminicidio': 28,\n",
       " 'TrataPersonas': 27,\n",
       " 'Extorsion': 25,\n",
       " 'CiberCrimen': 16,\n",
       " 'HurtoComerciales': 16}"
      ]
     },
     "execution_count": 154,
     "metadata": {},
     "output_type": "execute_result"
    }
   ],
   "source": [
    "dictPercepDelitos"
   ]
  }
 ],
 "metadata": {
  "kernelspec": {
   "display_name": "base",
   "language": "python",
   "name": "python3"
  },
  "language_info": {
   "codemirror_mode": {
    "name": "ipython",
    "version": 3
   },
   "file_extension": ".py",
   "mimetype": "text/x-python",
   "name": "python",
   "nbconvert_exporter": "python",
   "pygments_lexer": "ipython3",
   "version": "3.11.5"
  }
 },
 "nbformat": 4,
 "nbformat_minor": 2
}
