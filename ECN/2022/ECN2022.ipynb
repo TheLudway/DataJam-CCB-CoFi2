{
 "cells": [
  {
   "cell_type": "markdown",
   "metadata": {},
   "source": [
    "# Librerías\n",
    "\n",
    "Las que se van a usar para este proyecto son:\n",
    "- Pandas\n",
    "- Matplotlib\n",
    "- Numpy"
   ]
  },
  {
   "cell_type": "code",
   "execution_count": 2,
   "metadata": {},
   "outputs": [],
   "source": [
    "import pandas as pd\n",
    "import matplotlib.pyplot as plt\n",
    "import numpy as np"
   ]
  },
  {
   "cell_type": "markdown",
   "metadata": {},
   "source": [
    "# Lectura del DataFrame\n",
    "Debido a que se en utf-8 no se lee el archivo, el `encoding='latin-1'` permite que se pueda leer el archivo. Es un archivo que está dividido por comas, entonces se debe inicializar a `delimiter=','`. Por sugerencia del motor el último parámetro es inicializado como `low_memory=False`"
   ]
  },
  {
   "cell_type": "code",
   "execution_count": 3,
   "metadata": {},
   "outputs": [
    {
     "data": {
      "text/plain": [
       "Index(['Id_encuesta', 'Id_encuestado', 'F1', 'F1.1', 'F2', 'F3', 'F4', 'P1',\n",
       "       'P2', 'P3',\n",
       "       ...\n",
       "       'P59.4', 'P59.5', 'P59.6', 'P59.7', 'P59.8', 'P59.9', 'P60', 'P61',\n",
       "       'P63', 'F.EXPANSIÓN'],\n",
       "      dtype='object', length=320)"
      ]
     },
     "execution_count": 3,
     "metadata": {},
     "output_type": "execute_result"
    }
   ],
   "source": [
    "df = pd.read_csv('Base_2022.csv', delimiter=',', encoding='latin-1', low_memory=False)\n",
    "df.columns"
   ]
  },
  {
   "cell_type": "markdown",
   "metadata": {},
   "source": [
    "# Matrices con los delitos \n",
    "A continuación se presentan las matrices que serán útiles para sacar los vectores, cada matriz contendrá en cada fila las empresas que sufrieron de algún tipo de delito y en las columnas van a ser los delitos; sí (1), no (2). Las columnas que presentan van a estar en el siguiente orden:\n",
    "\n",
    "1. Hurto\n",
    "2. Delitos Informáticos.\n",
    "3. Fraude.\n",
    "4. Extorsión.\n",
    "5. Estafa.\n",
    "6. Hurto de automóviles o maquinaria.\n",
    "7. Ataque a la infraestructura.\n",
    "8. Vandalismo. "
   ]
  },
  {
   "cell_type": "code",
   "execution_count": 5,
   "metadata": {},
   "outputs": [],
   "source": [
    "dictDelitoEmpresa = {\n",
    "                'microDelito': df[(df['P58'] == 1) & (df['F4'] == 1)][['P59.1', 'P59.2', 'P59.3', 'P59.4', 'P59.5',\n",
    "                                                                        'P59.6', 'P59.7', 'P59.8', 'P59.9']].to_numpy(),\n",
    "                'pequeDelito': df[(df['P58'] == 1) & (df['F4'] == 2)][['P59.1', 'P59.2', 'P59.3', 'P59.4', 'P59.5',\n",
    "                                                                        'P59.6', 'P59.7', 'P59.8', 'P59.9']].to_numpy(),\n",
    "                'mediDelito': df[(df['P58'] == 1) & (df['F4'] == 3)][['P59.1', 'P59.2', 'P59.3', 'P59.4', 'P59.5',\n",
    "                                                                        'P59.6', 'P59.7', 'P59.8', 'P59.9']].to_numpy(),\n",
    "                'grandDelito': df[(df['P58'] == 1) & (df['F4'] == 4)][['P59.1', 'P59.2', 'P59.3', 'P59.4', 'P59.5',\n",
    "                                                                        'P59.6', 'P59.7', 'P59.8', 'P59.9']].to_numpy()\n",
    "}"
   ]
  },
  {
   "cell_type": "markdown",
   "metadata": {},
   "source": [
    "## Empresas que han sufrido delitos agrupadas por tamaño, archivo .csv  "
   ]
  },
  {
   "cell_type": "code",
   "execution_count": 7,
   "metadata": {},
   "outputs": [],
   "source": [
    "np.savetxt('CSV/MICROEMPRESAS/MicroEmpresas2022.csv', dictDelitoEmpresa['microDelito'], delimiter=',', fmt='%s', header='')\n",
    "np.savetxt('CSV/PEQUEÑAS/PequeñasEmpresas2022.csv', dictDelitoEmpresa['pequeDelito'], delimiter=',', fmt='%s', header='')\n",
    "np.savetxt('CSV/MEDIANAS/MedianasEmpresas2022.csv', dictDelitoEmpresa['mediDelito'], delimiter=',', fmt='%s', header='')\n",
    "np.savetxt('CSV/GRANDES/GrandesEmpresas2022.csv', dictDelitoEmpresa['grandDelito'], delimiter=',', fmt='%s', header='')"
   ]
  },
  {
   "cell_type": "code",
   "execution_count": 8,
   "metadata": {},
   "outputs": [],
   "source": [
    "dictDelitoSector = {\n",
    "                    'microComercio':df[(df['P58'] == 1) & (df['F4'] == 1) & (df['F3'] == 2 )][['P59.1', 'P59.2', 'P59.3', 'P59.4', 'P59.5',\n",
    "                                                                                                'P59.6', 'P59.7', 'P59.8', 'P59.9']].to_numpy(),\n",
    "                    'microIndustrias':df[(df['P58'] == 1) & (df['F4'] == 1) & (df['F3'] == 1 )][['P59.1', 'P59.2', 'P59.3', 'P59.4', 'P59.5',\n",
    "                                                                                                'P59.6', 'P59.7', 'P59.8', 'P59.9']].to_numpy(),\n",
    "                    'microServicios':df[(df['P58'] == 1) & (df['F4'] == 1) & (df['F3'] == 3 )][['P59.1', 'P59.2', 'P59.3', 'P59.4', 'P59.5',\n",
    "                                                                                                'P59.6', 'P59.7', 'P59.8', 'P59.9']].to_numpy(),\n",
    "                    'pequeComercio':df[(df['P58'] == 1) & (df['F4'] == 2) & (df['F3'] == 2 )][['P59.1', 'P59.2', 'P59.3', 'P59.4', 'P59.5',\n",
    "                                                                                                'P59.6', 'P59.7', 'P59.8', 'P59.9']].to_numpy(),\n",
    "                    'pequeIndustrias':df[(df['P58'] == 1) & (df['F4'] == 2) & (df['F3'] == 1 )][['P59.1', 'P59.2', 'P59.3', 'P59.4', 'P59.5',\n",
    "                                                                                                'P59.6', 'P59.7', 'P59.8', 'P59.9']].to_numpy(),\n",
    "                    'pequeServicios':df[(df['P58'] == 1) & (df['F4'] == 2) & (df['F3'] == 3 )][['P59.1', 'P59.2', 'P59.3', 'P59.4', 'P59.5',\n",
    "                                                                                                'P59.6', 'P59.7', 'P59.8', 'P59.9']].to_numpy(),\n",
    "                    'mediComercio':df[(df['P58'] == 1) & (df['F4'] == 3) & (df['F3'] == 2 )][['P59.1', 'P59.2', 'P59.3', 'P59.4', 'P59.5',\n",
    "                                                                                                'P59.6', 'P59.7', 'P59.8', 'P59.9']].to_numpy(),\n",
    "                    'mediIndustrias':df[(df['P58'] == 1) & (df['F4'] == 3) & (df['F3'] == 1 )][['P59.1', 'P59.2', 'P59.3', 'P59.4', 'P59.5',\n",
    "                                                                                                'P59.6', 'P59.7', 'P59.8', 'P59.9']].to_numpy(),\n",
    "                    'mediServicios':df[(df['P58'] == 1) & (df['F4'] == 3) & (df['F3'] == 3 )][['P59.1', 'P59.2', 'P59.3', 'P59.4', 'P59.5',\n",
    "                                                                                                'P59.6', 'P59.7', 'P59.8', 'P59.9']].to_numpy(),\n",
    "                    'grandComercio':df[(df['P58'] == 1) & (df['F4'] == 4) & (df['F3'] == 2 )][['P59.1', 'P59.2', 'P59.3', 'P59.4', 'P59.5',\n",
    "                                                                                                'P59.6', 'P59.7', 'P59.8', 'P59.9']].to_numpy(),\n",
    "                    'grandIndustrias':df[(df['P58'] == 1) & (df['F4'] == 4) & (df['F3'] == 1 )][['P59.1', 'P59.2', 'P59.3', 'P59.4', 'P59.5',\n",
    "                                                                                                'P59.6', 'P59.7', 'P59.8', 'P59.9']].to_numpy(),\n",
    "                    'grandServicios':df[(df['P58'] == 1) & (df['F4'] == 4) & (df['F3'] == 3 )][['P59.1', 'P59.2', 'P59.3', 'P59.4', 'P59.5',\n",
    "                                                                                                'P59.6', 'P59.7', 'P59.8', 'P59.9']].to_numpy()\n",
    "                    }\n"
   ]
  },
  {
   "cell_type": "code",
   "execution_count": 9,
   "metadata": {},
   "outputs": [],
   "source": [
    "np.savetxt('CSV/MICROEMPRESAS/MicroEmpresasComercio2022.csv', dictDelitoSector['microComercio'], delimiter=',', fmt='%s', header='')\n",
    "np.savetxt('CSV/MICROEMPRESAS/MicroEmpresasIndustrias2022.csv', dictDelitoSector['microIndustrias'], delimiter=',', fmt='%s', header='')\n",
    "np.savetxt('CSV/MICROEMPRESAS/MicroEmpresasServicios2022.csv', dictDelitoSector['microServicios'], delimiter=',', fmt='%s', header='')\n",
    "np.savetxt('CSV/PEQUEÑAS/PequeñasEmpresasComercio2022.csv', dictDelitoSector['pequeComercio'], delimiter=',', fmt='%s', header='')\n",
    "np.savetxt('CSV/PEQUEÑAS/PequeñasEmpresasIndustrias2022.csv', dictDelitoSector['pequeIndustrias'], delimiter=',', fmt='%s', header='')\n",
    "np.savetxt('CSV/PEQUEÑAS/PequeñasEmpresasServicios2022.csv', dictDelitoSector['pequeServicios'], delimiter=',', fmt='%s', header='')\n",
    "np.savetxt('CSV/MEDIANAS/MediEmpresasComercio2022.csv', dictDelitoSector['mediComercio'], delimiter=',', fmt='%s', header='')\n",
    "np.savetxt('CSV/MEDIANAS/MediEmpresasIndustrias2022.csv', dictDelitoSector['mediIndustrias'], delimiter=',', fmt='%s', header='')\n",
    "np.savetxt('CSV/MEDIANAS/MediEmpresasServicios2022.csv', dictDelitoSector['mediServicios'], delimiter=',', fmt='%s', header='')\n",
    "np.savetxt('CSV/GRANDES/GrandesEmpresasComercio2022.csv', dictDelitoSector['grandComercio'], delimiter=',', fmt='%s', header='')\n",
    "np.savetxt('CSV/GRANDES/GrandesEmpresasIndustrias2022.csv', dictDelitoSector['grandIndustrias'], delimiter=',', fmt='%s', header='')\n",
    "np.savetxt('CSV/GRANDES/GrandesEmpresasServicios2022.csv', dictDelitoSector['grandServicios'], delimiter=',', fmt='%s', header='')"
   ]
  },
  {
   "cell_type": "markdown",
   "metadata": {},
   "source": [
    "# Comandos útiles\n",
    "1. Tabular una variable cualitativa `X:df['X'].value_counts(normalize=False)`\n",
    "2. Seleccionar solo las variables `X, Y: df[['X', 'Y']]`\n",
    "3. Filtrar cuando la variable `X` es `x: df[df['X']=='x']`\n",
    "4. Filtrar cuando la variable `X=x & Y=y: df[(df['X']=='x') & (df['Y']=='y')]`\n",
    "5. Filtrar por texto de variable: `df[df['X'].str.contains('xxxxx')]`\n",
    "6. Ordenar por la variable `X: df.sort_values(by=['X'], ascending=True)`\n",
    "7. Bloquear por una o más condiciones: `df.loc[(df['X']=='x') & (df['Y']=='y')]`\n",
    "8. Redondear decimales: `round(X, 1)`\n",
    "9. Reemplazar un símbolo para corregir typos `df['X']=df['X'].str.replace('我', 'Yo')`\n",
    "10. Recodificar valores de variables `df['X'] = df['X'].replace({'a':'A', 'b':'B'})`\n",
    "11. Agrupar por `df.groupby(['X', 'Y'])['Z'].aggregate(['count', 'mean', 'std'])`\n",
    "12. Tabulación cruzada `pd.ccrosstab(df['X'], df['Y'], normalize=False)`\n",
    "13. Crear una tabla dinámica `df.pivot_table(index='X', columns='Y', values='Z', aggfunc='mean')`"
   ]
  }
 ],
 "metadata": {
  "kernelspec": {
   "display_name": "base",
   "language": "python",
   "name": "python3"
  },
  "language_info": {
   "codemirror_mode": {
    "name": "ipython",
    "version": 3
   },
   "file_extension": ".py",
   "mimetype": "text/x-python",
   "name": "python",
   "nbconvert_exporter": "python",
   "pygments_lexer": "ipython3",
   "version": "3.11.5"
  }
 },
 "nbformat": 4,
 "nbformat_minor": 2
}
