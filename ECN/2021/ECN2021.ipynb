{
 "cells": [
  {
   "cell_type": "markdown",
   "metadata": {},
   "source": [
    "# Librerías\n",
    "\n",
    "Las que se van a usar para este proyecto son:\n",
    "- Pandas\n",
    "- Matplotlib\n",
    "- Numpy"
   ]
  },
  {
   "cell_type": "code",
   "execution_count": 1,
   "metadata": {},
   "outputs": [],
   "source": [
    "import pandas as pd\n",
    "import matplotlib.pyplot as plt\n",
    "import numpy as np"
   ]
  },
  {
   "cell_type": "markdown",
   "metadata": {},
   "source": [
    "# Lectura del DataFrame\n",
    "Debido a que se en utf-8 no se lee el archivo, el `encoding='latin-1'` permite que se pueda leer el archivo. Es un archivo que está dividido por comas, entonces se debe inicializar a `delimiter=','`. Por sugerencia del motor el último parámetro es inicializado como `low_memory=False`"
   ]
  },
  {
   "cell_type": "code",
   "execution_count": 2,
   "metadata": {},
   "outputs": [
    {
     "data": {
      "text/plain": [
       "Index(['Id_Encuesta', 'Id_Encuestado', 'COD_CIIU', 'SECTOR', 'TAMANO', 'F1',\n",
       "       'F2', 'F3', 'P1', 'P2',\n",
       "       ...\n",
       "       'P57A', 'P57B', 'P57C', 'P57D', 'P57E', 'P57F', 'P57G', 'P57H', 'P58',\n",
       "       'P59'],\n",
       "      dtype='object', length=309)"
      ]
     },
     "execution_count": 2,
     "metadata": {},
     "output_type": "execute_result"
    }
   ],
   "source": [
    "df = pd.read_csv('Base_2021.csv', delimiter=',', encoding='latin-1', low_memory=False)\n",
    "df.columns"
   ]
  },
  {
   "cell_type": "markdown",
   "metadata": {},
   "source": [
    "# Matrices con los delitos \n",
    "A continuación se presentan las matrices que serán útiles para sacar los vectores, cada matriz contendrá en cada fila las empresas que sufrieron de algún tipo de delito y en las columnas van a ser los delitos; sí (1), no (2). Las columnas que presentan van a estar en el siguiente orden:\n",
    "\n",
    "1. Hurto\n",
    "2. Delitos Informáticos.\n",
    "3. Fraude.\n",
    "4. Extorsión.\n",
    "5. Estafa.\n",
    "6. Hurto de automóviles o maquinaria.\n",
    "7. Ataque a la infraestructura.\n",
    "8. Vandalismo. "
   ]
  },
  {
   "cell_type": "code",
   "execution_count": 28,
   "metadata": {},
   "outputs": [],
   "source": [
    "dictDelitoEmpresa = {\n",
    "                'microDelito': df[(df['P56'] == 1) & (df['TAMANO'] == 1)][['P57A', 'P57B', 'P57C', 'P57D',\n",
    "                                                                           'P57E', 'P57F', 'P57G', 'P57H']].to_numpy(),\n",
    "                'pequeDelito': df[(df['P56'] == 1) & (df['TAMANO'] == 2)][['P57A', 'P57B', 'P57C', 'P57D',\n",
    "                                                                           'P57E', 'P57F', 'P57G', 'P57H']].to_numpy(),\n",
    "                'mediDelito': df[(df['P56'] == 1) & (df['TAMANO'] == 3)][['P57A', 'P57B', 'P57C', 'P57D',\n",
    "                                                                           'P57E', 'P57F', 'P57G', 'P57H']].to_numpy(),\n",
    "                'grandDelito': df[(df['P56'] == 1) & (df['TAMANO'] == 4)][['P57A', 'P57B', 'P57C', 'P57D',\n",
    "                                                                           'P57E', 'P57F', 'P57G', 'P57H']].to_numpy(),\n",
    "}"
   ]
  },
  {
   "cell_type": "code",
   "execution_count": 29,
   "metadata": {},
   "outputs": [],
   "source": [
    "dictDelitoSector = {\n",
    "                    'microComercio':df[(df['P56'] == 1) & (df['TAMANO'] == 1) & (df['SECTOR'] == 3 )][['P57A', 'P57B', 'P57C', 'P57D',\n",
    "                                                                                                        'P57E', 'P57F', 'P57G', 'P57H']].to_numpy(),\n",
    "                    'microConstruccion': df[(df['P56'] == 1) & (df['TAMANO'] == 1) & (df['SECTOR'] == 1 )][['P57A', 'P57B', 'P57C', 'P57D',\n",
    "                                                                                                            'P57E', 'P57F', 'P57G', 'P57H']].to_numpy(),\n",
    "                    'microIndustrias':df[(df['P56'] == 1) & (df['TAMANO'] == 1) & (df['SECTOR'] == 2 )][['P57A', 'P57B', 'P57C', 'P57D',\n",
    "                                                                                                         'P57E', 'P57F', 'P57G', 'P57H']].to_numpy(),\n",
    "                    'microServicios':df[(df['P56'] == 1) & (df['TAMANO'] == 1) & (df['SECTOR'] == 4 )][['P57A', 'P57B', 'P57C', 'P57D',\n",
    "                                                                                                    'P57E', 'P57F', 'P57G', 'P57H']].to_numpy(),\n",
    "                    'pequeComercio':df[(df['P56'] == 1) & (df['TAMANO'] == 2) & (df['SECTOR'] == 3 )][['P57A', 'P57B', 'P57C', 'P57D',\n",
    "                                                                                                    'P57E', 'P57F', 'P57G', 'P57H']].to_numpy(),\n",
    "                    'pequeConstruccion':df[(df['P56'] == 1) & (df['TAMANO'] == 2) & (df['SECTOR'] == 1 )][['P57A', 'P57B', 'P57C', 'P57D',\n",
    "                                                                                                            'P57E', 'P57F', 'P57G', 'P57H']].to_numpy(),\n",
    "                    'pequeIndustrias':df[(df['P56'] == 1) & (df['TAMANO'] == 2) & (df['SECTOR'] == 2 )][['P57A', 'P57B', 'P57C', 'P57D',\n",
    "                                                                                                            'P57E', 'P57F', 'P57G', 'P57H']].to_numpy(),\n",
    "                    'pequeServicios':df[(df['P56'] == 1) & (df['TAMANO'] == 2) & (df['SECTOR'] == 4 )][['P57A', 'P57B', 'P57C', 'P57D',\n",
    "                                                                                                            'P57E', 'P57F', 'P57G', 'P57H']].to_numpy(),\n",
    "                    'mediComercio':df[(df['P56'] == 1) & (df['TAMANO'] == 3) & (df['SECTOR'] == 3 )][['P57A', 'P57B', 'P57C', 'P57D',\n",
    "                                                                                                        'P57E', 'P57F', 'P57G', 'P57H']].to_numpy(),\n",
    "                    'mediConstruccion': df[(df['P56'] == 1) & (df['TAMANO'] == 3) & (df['SECTOR'] == 1 )][['P57A', 'P57B', 'P57C', 'P57D',\n",
    "                                                                                                            'P57E', 'P57F', 'P57G', 'P57H']].to_numpy(),\n",
    "                    'mediIndustrias':df[(df['P56'] == 1) & (df['TAMANO'] == 3) & (df['SECTOR'] == 2 )][['P57A', 'P57B', 'P57C', 'P57D',\n",
    "                                                                                                         'P57E', 'P57F', 'P57G', 'P57H']].to_numpy(),\n",
    "                    'mediServicios':df[(df['P56'] == 1) & (df['TAMANO'] == 3) & (df['SECTOR'] == 4 )][['P57A', 'P57B', 'P57C', 'P57D',\n",
    "                                                                                                    'P57E', 'P57F', 'P57G', 'P57H']].to_numpy(),\n",
    "                    'grandComercio':df[(df['P56'] == 1) & (df['TAMANO'] == 4) & (df['SECTOR'] == 3 )][['P57A', 'P57B', 'P57C', 'P57D',\n",
    "                                                                                                    'P57E', 'P57F', 'P57G', 'P57H']].to_numpy(),\n",
    "                    'grandConstruccion':df[(df['P56'] == 1) & (df['TAMANO'] == 4) & (df['SECTOR'] == 1 )][['P57A', 'P57B', 'P57C', 'P57D',\n",
    "                                                                                                            'P57E', 'P57F', 'P57G', 'P57H']].to_numpy(),\n",
    "                    'grandIndustrias':df[(df['P56'] == 1) & (df['TAMANO'] == 4) & (df['SECTOR'] == 2 )][['P57A', 'P57B', 'P57C', 'P57D',\n",
    "                                                                                                            'P57E', 'P57F', 'P57G', 'P57H']].to_numpy(),\n",
    "                    'grandServicios':df[(df['P56'] == 1) & (df['TAMANO'] == 4) & (df['SECTOR'] == 4 )][['P57A', 'P57B', 'P57C', 'P57D',\n",
    "                                                                                                            'P57E', 'P57F', 'P57G', 'P57H']].to_numpy(),\n",
    "                    }\n"
   ]
  },
  {
   "cell_type": "code",
   "execution_count": null,
   "metadata": {},
   "outputs": [],
   "source": []
  },
  {
   "cell_type": "markdown",
   "metadata": {},
   "source": [
    "# Comandos útiles\n",
    "1. Tabular una variable cualitativa `X:df['X'].value_counts(normalize=False)`\n",
    "2. Seleccionar solo las variables `X, Y: df[['X', 'Y']]`\n",
    "3. Filtrar cuando la variable `X` es `x: df[df['X']=='x']`\n",
    "4. Filtrar cuando la variable `X=x & Y=y: df[(df['X']=='x') & (df['Y']=='y')]`\n",
    "5. Filtrar por texto de variable: `df[df['X'].str.contains('xxxxx')]`\n",
    "6. Ordenar por la variable `X: df.sort_values(by=['X'], ascending=True)`\n",
    "7. Bloquear por una o más condiciones: `df.loc[(df['X']=='x') & (df['Y']=='y')]`\n",
    "8. Redondear decimales: `round(X, 1)`\n",
    "9. Reemplazar un símbolo para corregir typos `df['X']=df['X'].str.replace('我', 'Yo')`\n",
    "10. Recodificar valores de variables `df['X'] = df['X'].replace({'a':'A', 'b':'B'})`\n",
    "11. Agrupar por `df.groupby(['X', 'Y'])['Z'].aggregate(['count', 'mean', 'std'])`\n",
    "12. Tabulación cruzada `pd.ccrosstab(df['X'], df['Y'], normalize=False)`\n",
    "13. Crear una tabla dinámica `df.pivot_table(index='X', columns='Y', values='Z', aggfunc='mean')`"
   ]
  }
 ],
 "metadata": {
  "kernelspec": {
   "display_name": "base",
   "language": "python",
   "name": "python3"
  },
  "language_info": {
   "codemirror_mode": {
    "name": "ipython",
    "version": 3
   },
   "file_extension": ".py",
   "mimetype": "text/x-python",
   "name": "python",
   "nbconvert_exporter": "python",
   "pygments_lexer": "ipython3",
   "version": "3.11.5"
  }
 },
 "nbformat": 4,
 "nbformat_minor": 2
}
